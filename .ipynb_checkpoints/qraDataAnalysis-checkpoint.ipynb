{
 "cells": [
  {
   "cell_type": "markdown",
   "metadata": {},
   "source": [
    "# Quantitative Risk Assessment - TNO Site"
   ]
  },
  {
   "cell_type": "markdown",
   "metadata": {},
   "source": [
    "# Background\n",
    "Recently completed large risk analysis study for entire site.  Study was performed by contract company, BakerRisk.\n",
    "\n",
    "Analyzed potential release scenarios to determine potential severity of each event (in terms of number of injuries)\n"
   ]
  },
  {
   "cell_type": "markdown",
   "metadata": {},
   "source": [
    "Injuries Modeled for Personnel in Occupied Buildings.\n",
    "\n",
    "The model predicts probability of personnel injury inside of a building due to fire, toxic, and blast scenarios.\n",
    "\n",
    "*Number of injuries in a building is estimated by (probability of injury) x (building occupancy)*"
   ]
  },
  {
   "cell_type": "markdown",
   "metadata": {},
   "source": [
    "## Quantifying Risk\n",
    "\n",
    "Risk is quantified by the relationship between consequence *(number of injuries)* and the frequency of an event *(toxic release, fire, explosion)*\n",
    "\n",
    "Corporations will specify a Risk criteria for tolerable frequencies of event magnitudes, e.g. **1 injury per 10,000 years**, or **1e-5 injuries per year**."
   ]
  },
  {
   "cell_type": "markdown",
   "metadata": {},
   "source": [
    "### F-N Curves\n",
    "BakerRisk provided \"F-N\" Curves, which plot cumulative frequency of events that result in N or more injuries.\n",
    "\n",
    "An F-N Curve was provided for each building.  The below example is based on simulated, random data.\n",
    "\n",
    "![FN Curve](img/fncurve.png)\n",
    "\n",
    " - The red and green lines are targets specified by [UK HSE](http://www.hse.gov.uk/research/rrpdf/rr703.pdf).\n",
    " - The bottom-right point represents one scenario of magnitude ~1e-7 with a consequence of ~200 injuries.\n",
    " - The point directly above it is for another scenario with similar consequence (slightly less than the first) and similar frequency.  \n",
    "     - The frequency of this second event is summed to that of the first, and the cumulative frequency and num of injuries of the second point is plotted as this second point.\n",
    "     - The y-value of this second point reflects the total frequency of events of that result in the x-value of **N or more** injuries.  \n",
    "     - The assumption is that events are mutually exclusive, so this is the potential frequency of event1 **or** event2.\n",
    "         - Event1 results in a certain number of injuries.  \n",
    "         - Event2 results in slightly less injuries than event1.\n",
    "         - The cumulative frequency represents the frequency of either event occuring, and plots the potential consequences of each event."
   ]
  },
  {
   "cell_type": "markdown",
   "metadata": {},
   "source": [
    "## Problems\n",
    "\n",
    "1. BakerRisk provides all data in spreadsheets.\n",
    "    - In one spreadsheet, there are tabs for each occupied building (240+ occupied bldgs on-site).\n",
    "    - Each tab contains data for the consequence to the building from 1000+ scenarios.\n",
    "    - Querying data to one tab -> ~1,000,000 rows.  \n",
    "    - Attempting to filter data and regenerate F-N Curves based on modifying inputs takes > 15 minutes and will often crash Excel.\n",
    "    - Attempting to build F-N curves for different units (department, division, sitewide, etc.) is nearly impossible in Excel given the memory constraints, etc.\n",
    "   \n",
    "   \n",
    "2. Querying the data to Power BI has presented some issues as well (may be related to my novice level of experience)\n",
    "    - Preliminary model result data has been queried from Excel and loaded into Power BI.\n",
    "    - There were a lot of blank rows that copied over.  I want to ensure that I have the query set up properly once BakerRisk hands off the finalized data.\n",
    "    - Calculating a cumulative frequency measure has been an issue.\n",
    "    - Using the \"Python visual\" with pandas can calculate cumulative frequency, but the plotting appears in error.\n",
    "        - The plotted cumulative frequency is much lower than the actual cumulative frequency.  \n",
    "        - This may be due to memory limitations.  Hopefully a more powerful workstation will have better luck.\n",
    "\n",
    "\n",
    "3. Scenarios are identified with \"ProjectPhase-ProductionBuildingNumber-ScenarioIdentifier-Hole Size[-Other Info]\"\n",
    "    - Once BakerRisk has provided all data, I will need to build a link between the scenario identifier and the chemical/mixture for each scenario.\n",
    "    - Having an understanding of what chemicals are being released will allow us to filter on specific chemicals to assess their risk contribution.\n",
    "    - There will be some other associated tables that could be built to help with assessing changes to risk.\n",
    "        - More than wanting to discuss here.\n",
    "\n",
    "**For now, (1) getting the FN Curve \"Cumulative Frequency\" calculation working in Power BI and (2) ensuring the query is set up ok would be phenomenal**"
   ]
  },
  {
   "cell_type": "markdown",
   "metadata": {},
   "source": [
    "## Generating an FN Curve for Testing\n",
    "If you would like to test buiding an FN curve from random data, here is a simple Python script"
   ]
  },
  {
   "cell_type": "code",
   "execution_count": 2,
   "metadata": {},
   "outputs": [
    {
     "name": "stdout",
     "output_type": "stream",
     "text": [
      "[2.99847e-07 1.76695e-07 5.83100e-09 8.03470e-08 2.68291e-07 1.75525e-07\n",
      " 3.61922e-07 3.54976e-07 1.96976e-07 2.99613e-07 3.39068e-07 3.56596e-07\n",
      " 1.71960e-08 3.69869e-07 2.20855e-07 4.85499e-07 5.03210e-08 2.71207e-07\n",
      " 2.94718e-07 1.98960e-07 2.09226e-07 1.24691e-07 6.03670e-08 4.45148e-07\n",
      " 9.87290e-08 2.97384e-07 4.87672e-07 1.19047e-07 1.12684e-07 1.75928e-07\n",
      " 3.41576e-07 4.83504e-07 1.48119e-07 1.17597e-07 3.64467e-07 1.25694e-07\n",
      " 2.80880e-08 1.93630e-08 2.86983e-07 3.87293e-07 1.94742e-07 3.33367e-07\n",
      " 4.24488e-07 8.45960e-08 2.34037e-07 2.38863e-07 1.09081e-07 2.83859e-07\n",
      " 2.54910e-08 2.33680e-08 2.59074e-07 4.72138e-07 3.96878e-07 1.83955e-07\n",
      " 2.53407e-07 1.67957e-07 2.95236e-07 1.45971e-07 2.70549e-07 1.47693e-07\n",
      " 5.82160e-08 1.28512e-07 2.22289e-07 6.03490e-08 1.19911e-07 1.81497e-07\n",
      " 1.19258e-07 7.81040e-08 3.77349e-07 3.30471e-07 4.05783e-07 2.05504e-07\n",
      " 1.65709e-07 1.35590e-08 4.44270e-07 1.72610e-08 3.90206e-07 9.20580e-08\n",
      " 1.68960e-08 3.25453e-07 4.54274e-07 4.75638e-07 1.10088e-07 3.57824e-07\n",
      " 1.00211e-07 6.23850e-08 4.25624e-07 2.44100e-07 5.34450e-08 3.62038e-07\n",
      " 1.85403e-07 4.47177e-07 2.67745e-07 9.88500e-09 4.19446e-07 4.64287e-07\n",
      " 2.96940e-07 4.23807e-07 3.88682e-07 2.29930e-07]\n"
     ]
    }
   ],
   "source": [
    "import numpy as np\n",
    "import pandas as pd\n",
    "import matplotlib.pyplot as plt\n",
    "\n",
    "#studying impact from multiple scenarios to occupants of B280, West Wing.\n",
    "\n",
    "#number of simulated scenarios impacting B280West.\n",
    "n=100\n",
    "\n",
    "#get random frequencies of loss of containment scenarios (bet 1e-12 and 5e-7)\n",
    "frequencies = np.random.randint(low=1, high=500000, size=n)/1e12\n",
    "\n",
    "print(frequencies)"
   ]
  },
  {
   "cell_type": "markdown",
   "metadata": {},
   "source": [
    "### *The values above are the estimated frequencies of each of the simulated scenarios that impact B280West.*"
   ]
  },
  {
   "cell_type": "code",
   "execution_count": 3,
   "metadata": {},
   "outputs": [],
   "source": [
    "#get a normal distribution of probabilities of injury to associate with a loss of containment.  \n",
    "#project the distribution between 0 and 1.\n",
    "\n",
    "injuryprob=np.random.normal(loc=0.5,scale=1.0,size=n)\n",
    "minval = min(injuryprob)\n",
    "maxval = max(injuryprob)\n",
    "injuryprob -= minval\n",
    "injuryprob /= (maxval-minval)\n"
   ]
  },
  {
   "cell_type": "code",
   "execution_count": 4,
   "metadata": {},
   "outputs": [
    {
     "name": "stdout",
     "output_type": "stream",
     "text": [
      "[ 96.   0.  87.  76.  83.  82. 132.  96.   5.  59.  74. 137.  77. 108.\n",
      " 187.  54.  49.  94.  98. 117.  36.  55. 200.  69.  42.  81.  84. 110.\n",
      " 116. 113.  10. 122.  43. 121.  82.  60.  96. 114.  92.  52.  34. 146.\n",
      "  19. 105.  46.  67. 117. 138.  76.  87. 116.  93. 155.  65.  91. 115.\n",
      " 155.  75. 109.  84.  95. 133.  38.  63. 144.  79.  77.  67. 150.  39.\n",
      " 129. 139. 169.  89.  84. 133.  48.   3.  62.  55.  67.  66.  72.  49.\n",
      " 126.   8.  90. 145. 106.  87. 114.   3. 125.  91. 105.  71.  96.  84.\n",
      "  82. 141.]\n"
     ]
    }
   ],
   "source": [
    "#scale probability by occupancy -> estimate number of injuries\n",
    "b280WestOccupancy=200\n",
    "numinjuries=np.around(b280WestOccupancy * injuryprob)\n",
    "print(numinjuries)"
   ]
  },
  {
   "cell_type": "markdown",
   "metadata": {},
   "source": [
    "### *The values above are the associated number of injuries that are modeled as the consequence of each release scenario. Again, these are the impacts to B280West from each simulated scenario.*"
   ]
  },
  {
   "cell_type": "code",
   "execution_count": 5,
   "metadata": {},
   "outputs": [
    {
     "data": {
      "text/html": [
       "<div>\n",
       "<style scoped>\n",
       "    .dataframe tbody tr th:only-of-type {\n",
       "        vertical-align: middle;\n",
       "    }\n",
       "\n",
       "    .dataframe tbody tr th {\n",
       "        vertical-align: top;\n",
       "    }\n",
       "\n",
       "    .dataframe thead th {\n",
       "        text-align: right;\n",
       "    }\n",
       "</style>\n",
       "<table border=\"1\" class=\"dataframe\">\n",
       "  <thead>\n",
       "    <tr style=\"text-align: right;\">\n",
       "      <th></th>\n",
       "      <th>f</th>\n",
       "      <th>n</th>\n",
       "    </tr>\n",
       "  </thead>\n",
       "  <tbody>\n",
       "    <tr>\n",
       "      <th>22</th>\n",
       "      <td>6.036700e-08</td>\n",
       "      <td>200.0</td>\n",
       "    </tr>\n",
       "    <tr>\n",
       "      <th>14</th>\n",
       "      <td>2.208550e-07</td>\n",
       "      <td>187.0</td>\n",
       "    </tr>\n",
       "    <tr>\n",
       "      <th>72</th>\n",
       "      <td>1.657090e-07</td>\n",
       "      <td>169.0</td>\n",
       "    </tr>\n",
       "    <tr>\n",
       "      <th>56</th>\n",
       "      <td>2.952360e-07</td>\n",
       "      <td>155.0</td>\n",
       "    </tr>\n",
       "    <tr>\n",
       "      <th>52</th>\n",
       "      <td>3.968780e-07</td>\n",
       "      <td>155.0</td>\n",
       "    </tr>\n",
       "  </tbody>\n",
       "</table>\n",
       "</div>"
      ],
      "text/plain": [
       "               f      n\n",
       "22  6.036700e-08  200.0\n",
       "14  2.208550e-07  187.0\n",
       "72  1.657090e-07  169.0\n",
       "56  2.952360e-07  155.0\n",
       "52  3.968780e-07  155.0"
      ]
     },
     "execution_count": 5,
     "metadata": {},
     "output_type": "execute_result"
    }
   ],
   "source": [
    "#load to dataframe and sort by largest to smallest num of injuries from each scenario.\n",
    "df = pd.DataFrame({'f':frequencies, 'n':numinjuries})\n",
    "\n",
    "df = df.sort_values(['n', 'f'], ascending=[False, True])\n",
    "\n",
    "df.head()\n"
   ]
  },
  {
   "cell_type": "markdown",
   "metadata": {},
   "source": [
    "### *Each row in the table above is for a scenario that impacts B280West. The 'f' column is the frequency of each scenario, and 'n' is the number of injuries*"
   ]
  },
  {
   "cell_type": "code",
   "execution_count": 6,
   "metadata": {},
   "outputs": [
    {
     "data": {
      "text/html": [
       "<div>\n",
       "<style scoped>\n",
       "    .dataframe tbody tr th:only-of-type {\n",
       "        vertical-align: middle;\n",
       "    }\n",
       "\n",
       "    .dataframe tbody tr th {\n",
       "        vertical-align: top;\n",
       "    }\n",
       "\n",
       "    .dataframe thead th {\n",
       "        text-align: right;\n",
       "    }\n",
       "</style>\n",
       "<table border=\"1\" class=\"dataframe\">\n",
       "  <thead>\n",
       "    <tr style=\"text-align: right;\">\n",
       "      <th></th>\n",
       "      <th>f</th>\n",
       "      <th>n</th>\n",
       "      <th>fcum</th>\n",
       "    </tr>\n",
       "  </thead>\n",
       "  <tbody>\n",
       "    <tr>\n",
       "      <th>22</th>\n",
       "      <td>6.036700e-08</td>\n",
       "      <td>200.0</td>\n",
       "      <td>6.036700e-08</td>\n",
       "    </tr>\n",
       "    <tr>\n",
       "      <th>14</th>\n",
       "      <td>2.208550e-07</td>\n",
       "      <td>187.0</td>\n",
       "      <td>2.812220e-07</td>\n",
       "    </tr>\n",
       "    <tr>\n",
       "      <th>72</th>\n",
       "      <td>1.657090e-07</td>\n",
       "      <td>169.0</td>\n",
       "      <td>4.469310e-07</td>\n",
       "    </tr>\n",
       "    <tr>\n",
       "      <th>56</th>\n",
       "      <td>2.952360e-07</td>\n",
       "      <td>155.0</td>\n",
       "      <td>7.421670e-07</td>\n",
       "    </tr>\n",
       "    <tr>\n",
       "      <th>52</th>\n",
       "      <td>3.968780e-07</td>\n",
       "      <td>155.0</td>\n",
       "      <td>1.139045e-06</td>\n",
       "    </tr>\n",
       "  </tbody>\n",
       "</table>\n",
       "</div>"
      ],
      "text/plain": [
       "               f      n          fcum\n",
       "22  6.036700e-08  200.0  6.036700e-08\n",
       "14  2.208550e-07  187.0  2.812220e-07\n",
       "72  1.657090e-07  169.0  4.469310e-07\n",
       "56  2.952360e-07  155.0  7.421670e-07\n",
       "52  3.968780e-07  155.0  1.139045e-06"
      ]
     },
     "execution_count": 6,
     "metadata": {},
     "output_type": "execute_result"
    }
   ],
   "source": [
    "#Add column for cumulative sum of frequency\n",
    "\n",
    "df['fcum'] = df['f'].cumsum()\n",
    "\n",
    "df.head()\n"
   ]
  },
  {
   "cell_type": "code",
   "execution_count": 7,
   "metadata": {},
   "outputs": [
    {
     "data": {
      "image/png": "[encoded data removed]",
      "text/plain": [
       "<Figure size 432x288 with 1 Axes>"
      ]
     },
     "metadata": {
      "needs_background": "light"
     },
     "output_type": "display_data"
    }
   ],
   "source": [
    "#plot exceedence on log-log scale\n",
    "\n",
    "fig = plt.figure()\n",
    "ax = plt.gca()\n",
    "ax.plot(df['n'] ,df['fcum'], 'o', c='blue', alpha=0.5, markeredgecolor='none')\n",
    "ax.plot([1, 10, 1000], [0.01, 0.001, 0.00001], c = 'red')\n",
    "ax.plot([1, 10, 1000], [0.0001, 0.00001, 0.0000001], c = 'green')\n",
    "ax.set_yscale('log')\n",
    "ax.set_xscale('log')\n",
    "plt.xlabel('N or More Injuries')\n",
    "plt.ylabel('Cumulative Frequency')\n",
    "\n",
    "plt.show()"
   ]
  },
  {
   "cell_type": "markdown",
   "metadata": {},
   "source": [
    "## Issues with Generating F-N Curve in Power BI\n",
    "\n",
    "When inside of Power BI, running the same test script as above works ok, and generates the following plot:\n",
    "\n",
    "![Power BI Test FN Curve](img/fncurvebi.png)\n",
    "\n",
    "Power BI's plotting seems to break down when dealing with the large, real dataset.  The plot that is generated does not reflect the real data.  The cumulative sum calculated on F in Python is several orders of magnitude below the actual cumulative sum.\n"
   ]
  },
  {
   "cell_type": "markdown",
   "metadata": {},
   "source": [
    "The code below is the implemented script in Power BI's \"Python visual\":\n",
    "\n",
    "```python\n",
    "import matplotlib.pyplot as plt\n",
    "dataset = dataset.sort_values(['Content.N', 'Content.F'], ascending=[False, True])\n",
    "dataset['fcum'] = dataset['Content.F'].cumsum()\n",
    "\n",
    "fig = plt.figure()\n",
    "ax = plt.gca()\n",
    "ax.plot(dataset['Content.N'] ,dataset['fcum'], 'o', c='blue', alpha=0.5, markeredgecolor='none')\n",
    "ax.plot([1, 10, 1000], [0.01, 0.001, 0.00001], c = 'red')\n",
    "ax.plot([1, 10, 1000], [0.0001, 0.00001, 0.0000001], c = 'green')\n",
    "ax.set_yscale('log')\n",
    "ax.set_xscale('log')\n",
    "\n",
    "plt.show()\n",
    "\n",
    "```"
   ]
  },
  {
   "cell_type": "markdown",
   "metadata": {},
   "source": [
    "I received some guidance on calculating cumulative sum as a measure, but I couldn't get it to work appropriately.  The direction was to use a line graph, and calculate with something similar to the following (I have since lost his original recommended code):\n",
    "\n",
    "```\n",
    "Cumulative value =      \n",
    "\tCALCULATE (      \n",
    "\t   sum([value]),      \n",
    "\t   FILTER (      \n",
    "\t      ALL ( Sheet1[Frequency] ),      \n",
    "\t      Sheet1[Frequency] <= MAX ( Sheet1[Frequency] )  \n",
    "\t   )    \n",
    "\t) \n",
    "```\n",
    "\n",
    "I'm unsure if it would have ever given a correct value, as it calculated for an hour and returned an \"Exceeded Resources\" error.\n"
   ]
  }
 ],
 "metadata": {
  "kernelspec": {
   "display_name": "Python 3",
   "language": "python",
   "name": "python3"
  },
  "language_info": {
   "codemirror_mode": {
    "name": "ipython",
    "version": 3
   },
   "file_extension": ".py",
   "mimetype": "text/x-python",
   "name": "python",
   "nbconvert_exporter": "python",
   "pygments_lexer": "ipython3",
   "version": "3.6.8"
  }
 },
 "nbformat": 4,
 "nbformat_minor": 2
}
